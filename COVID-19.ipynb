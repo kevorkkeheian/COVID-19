{
 "cells": [
  {
   "cell_type": "code",
   "execution_count": 22,
   "metadata": {},
   "outputs": [
    {
     "name": "stdout",
     "output_type": "stream",
     "text": [
      "Succeeded\n"
     ]
    }
   ],
   "source": [
    "import numpy as np # linear algebra\n",
    "import pandas as pd # data processing, CSV file I/O (e.g. pd.read_csv)\n",
    "\n",
    "!curl https://raw.githubusercontent.com/CSSEGISandData/COVID-19/master/csse_covid_19_data/csse_covid_19_time_series/time_series_covid19_confirmed_global.csv  -o ../covid-19-confirmed-cases.csv\n",
    "!curl https://raw.githubusercontent.com/CSSEGISandData/COVID-19/master/csse_covid_19_data/csse_covid_19_time_series/time_series_covid19_recovered_global.csv  -o ../covid-19-recovered-cases.csv\n",
    "!curl https://raw.githubusercontent.com/CSSEGISandData/COVID-19/master/csse_covid_19_data/csse_covid_19_time_series/time_series_covid19_deaths_global.csv  -o ../covid-19-recovered-deaths.csv"
   ]
  },
  {
   "cell_type": "code",
   "execution_count": null,
   "metadata": {},
   "outputs": [],
   "source": [
    "ConfirmedCases = pd.read_csv('../covid-19-confirmed-cases.csv')\n",
    "RecoveredCases = pd.read_csv('../covid-19-recovered-cases.csv')\n",
    "Deaths = pd.read_csv('../covid-19-recovered-deaths.csv')"
   ]
  },
  {
   "cell_type": "code",
   "execution_count": 23,
   "metadata": {
    "collapsed": false,
    "jupyter": {
     "outputs_hidden": false,
     "source_hidden": false
    },
    "nteract": {
     "transient": {
      "deleting": false
     }
    }
   },
   "outputs": [
    {
     "name": "stdout",
     "output_type": "stream",
     "text": [
      "Succeeded\n"
     ]
    }
   ],
   "source": [
    "ConfirmedCases = Dataset.get_by_name(workspace, name='COVID19_Confirmed').to_pandas_dataframe()\n",
    "RecoveredCases = Dataset.get_by_name(workspace, name='COVID19_Recovered').to_pandas_dataframe()\n",
    "Deaths = Dataset.get_by_name(workspace, name='COVID19_Deaths').to_pandas_dataframe()\n",
    "print(\"Succeeded\")"
   ]
  },
  {
   "cell_type": "code",
   "execution_count": 24,
   "metadata": {
    "collapsed": false,
    "jupyter": {
     "outputs_hidden": false,
     "source_hidden": false
    },
    "nteract": {
     "transient": {
      "deleting": false
     }
    }
   },
   "outputs": [
    {
     "name": "stdout",
     "output_type": "stream",
     "text": [
      "Succeeded\n"
     ]
    }
   ],
   "source": [
    "ConfirmedCases_ValueColumns = ConfirmedCases.columns[4:]\n",
    "RecoveredCases_ValueColumns = RecoveredCases.columns[4:]\n",
    "Deaths_ValueColumns = Deaths.columns[4:]\n",
    "print(\"Succeeded\")"
   ]
  },
  {
   "cell_type": "code",
   "execution_count": 25,
   "metadata": {
    "collapsed": false,
    "jupyter": {
     "outputs_hidden": false,
     "source_hidden": false
    },
    "nteract": {
     "transient": {
      "deleting": false
     }
    }
   },
   "outputs": [
    {
     "name": "stdout",
     "output_type": "stream",
     "text": [
      "Succeeded\n"
     ]
    }
   ],
   "source": [
    "ConfirmedCases = pd.melt(ConfirmedCases, id_vars=['Country/Region'], \n",
    "                          value_vars = ConfirmedCases_ValueColumns,\n",
    "                          var_name = \"Date\",\n",
    "                         value_name = \"ConfirmedCases\")\n",
    "\n",
    "RecoveredCases = pd.melt(RecoveredCases, id_vars=['Country/Region'], \n",
    "                          value_vars = RecoveredCases_ValueColumns,\n",
    "                          var_name = \"Date\",\n",
    "                         value_name = \"RecoveredCases\")\n",
    "\n",
    "Deaths = pd.melt(Deaths, id_vars = [\"Country/Region\"],\n",
    "                 value_vars = Deaths_ValueColumns,\n",
    "                 var_name = \"Date\",\n",
    "                 value_name = \"Deaths\")\n",
    "print(\"Succeeded\")"
   ]
  },
  {
   "cell_type": "code",
   "execution_count": 26,
   "metadata": {
    "collapsed": false,
    "jupyter": {
     "outputs_hidden": false,
     "source_hidden": false
    },
    "nteract": {
     "transient": {
      "deleting": false
     }
    }
   },
   "outputs": [],
   "source": [
    "ConfirmedCases[\"Date\"] = pd.to_datetime(ConfirmedCases[\"Date\"])\n",
    "\n",
    "RecoveredCases[\"Date\"] = pd.to_datetime(RecoveredCases[\"Date\"])\n",
    "\n",
    "Deaths[\"Date\"] = pd.to_datetime(Deaths[\"Date\"])"
   ]
  },
  {
   "cell_type": "code",
   "execution_count": 27,
   "metadata": {
    "collapsed": false,
    "jupyter": {
     "outputs_hidden": false,
     "source_hidden": false
    },
    "nteract": {
     "transient": {
      "deleting": false
     }
    }
   },
   "outputs": [],
   "source": [
    "ConfirmedCases_ByDate = pd.pivot_table(ConfirmedCases, values='ConfirmedCases', \n",
    "                                       index=[\"Date\"],\n",
    "                                       aggfunc=np.sum).sort_values(by = \"Date\")\n",
    "\n",
    "\n",
    "RecoveredCases_ByDate = pd.pivot_table(RecoveredCases,\n",
    "                                      values = \"RecoveredCases\",\n",
    "                                      index = [\"Date\"],\n",
    "                                      aggfunc = np.sum).sort_values(by = \"Date\")\n",
    "\n",
    "Deaths_ByDate = pd.pivot_table(Deaths,\n",
    "                              values = \"Deaths\",\n",
    "                              index = [\"Date\"],\n",
    "                              aggfunc = np.sum).sort_values(by = \"Date\")\n"
   ]
  },
  {
   "cell_type": "code",
   "execution_count": 28,
   "metadata": {
    "collapsed": false,
    "jupyter": {
     "outputs_hidden": false,
     "source_hidden": false
    },
    "nteract": {
     "transient": {
      "deleting": false
     }
    }
   },
   "outputs": [
    {
     "name": "stdout",
     "output_type": "stream",
     "text": [
      "Succeeded\n"
     ]
    }
   ],
   "source": [
    "#Creating By Country Pivot Tables\n",
    "ConfirmedCases_ByCountry = pd.pivot_table(ConfirmedCases,\n",
    "                                         values = \"ConfirmedCases\",\n",
    "                                         index = [\"Country/Region\"],\n",
    "                                         aggfunc = np.max)\n",
    "\n",
    "RecoveredCases_ByCountry = pd.pivot_table(RecoveredCases,\n",
    "                                         values = \"RecoveredCases\",\n",
    "                                         index = [\"Country/Region\"],\n",
    "                                         aggfunc = np.max)\n",
    "\n",
    "Deaths_ByCountry = pd.pivot_table(Deaths,\n",
    "                                 values = \"Deaths\",\n",
    "                                 index = [\"Country/Region\"],\n",
    "                                 aggfunc = np.max)\n",
    "print(\"Succeeded\")"
   ]
  },
  {
   "cell_type": "code",
   "execution_count": 29,
   "metadata": {
    "collapsed": false,
    "jupyter": {
     "outputs_hidden": false,
     "source_hidden": false
    },
    "nteract": {
     "transient": {
      "deleting": false
     }
    }
   },
   "outputs": [
    {
     "name": "stdout",
     "output_type": "stream",
     "text": [
      "Succeeded\n"
     ]
    }
   ],
   "source": [
    "COVID19_ByDate = ConfirmedCases_ByDate.merge(RecoveredCases_ByDate, on = \"Date\").merge(Deaths_ByDate, on = \"Date\")\n",
    "COVID19_ByCountry = ConfirmedCases_ByCountry.merge(RecoveredCases_ByCountry, on = \"Country/Region\").merge(Deaths_ByCountry, on = \"Country/Region\")\n",
    "print(\"Succeeded\")"
   ]
  },
  {
   "cell_type": "code",
   "execution_count": null,
   "metadata": {
    "collapsed": false,
    "jupyter": {
     "outputs_hidden": false,
     "source_hidden": false
    },
    "nteract": {
     "transient": {
      "deleting": false
     }
    }
   },
   "outputs": [],
   "source": []
  }
 ],
 "metadata": {
  "kernel_info": {
   "name": "python3-azureml"
  },
  "kernelspec": {
   "display_name": "Python 3.6 - AzureML",
   "language": "python",
   "name": "python3-azureml"
  },
  "language_info": {
   "codemirror_mode": {
    "name": "ipython",
    "version": 3
   },
   "file_extension": ".py",
   "mimetype": "text/x-python",
   "name": "python",
   "nbconvert_exporter": "python",
   "pygments_lexer": "ipython3",
   "version": "3.6.9"
  },
  "nteract": {
   "version": "nteract-front-end@1.0.0"
  }
 },
 "nbformat": 4,
 "nbformat_minor": 2
}